from scipy import *
import numpy as np
import matplotlib.pyplot as plt
import matplotlib.cm as cm

n_max=10 
res=10000 
c_min =-2 
c_max = 2 
tab=zeros((res,res))

def next_z(z,c1,c2):
    z1=z[0]
    z2=z[1]
    return (z1*z1-z2*z2+c1,2*z1*z2+c2)

def norme(z):
    z1=z[0]
    z2=z[1]
    return sqrt(z1*z1+z2*z2)

def test(c1,c2,n):
    z=(0,0)
    i=1
    while ((norme(z)<=2) & (i<=n)):
        z=next_z(z,c1,c2)
        i=1+i
    if (i>n):    
        return 0
    else:
        return i

for i in range(res):
    for j in range(res):
        c1= -0.5 + c_min + i*(c_max-c_min)/res
        c2= c_min + j*(c_max-c_min)/res
        tab[i][j]=test(c1,c2,n_max)
        if (j==0):
            print(str((i*res+j)/(res*res/100))+"%")

plt.imshow(tab, extent=(c_min, c_max, c_min, c_max),interpolation='nearest', cmap=cm.gist_rainbow)
plt.show()
